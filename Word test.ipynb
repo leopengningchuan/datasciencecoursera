{
 "cells": [
  {
   "cell_type": "code",
   "execution_count": 1,
   "id": "75016fcc-3c9c-4791-90f2-429a2a85ba60",
   "metadata": {},
   "outputs": [],
   "source": [
    "# import packages\n",
    "import pandas as pd\n",
    "import numpy as np\n",
    "import re, random\n",
    "from collections import Counter\n",
    "\n",
    "import gradio as gr"
   ]
  },
  {
   "cell_type": "markdown",
   "id": "010eda33-0b39-457c-811c-addba405cf11",
   "metadata": {},
   "source": [
    "# Create 3 Gram Dataset"
   ]
  },
  {
   "cell_type": "code",
   "execution_count": 2,
   "id": "cbee6f60-fc3a-426f-a87f-5ebb41c9779c",
   "metadata": {},
   "outputs": [
    {
     "name": "stdout",
     "output_type": "stream",
     "text": [
      "CPU times: total: 34.9 s\n",
      "Wall time: 35.1 s\n"
     ]
    }
   ],
   "source": [
    "%%time\n",
    "\n",
    "# set the 3 gram counter\n",
    "trigram_counter = Counter()\n",
    "\n",
    "# file name\n",
    "file_path = \"en_US_twitter.txt\"\n",
    "\n",
    "# open the file and read by line\n",
    "with open(file_path, 'r', encoding='utf-8') as f:\n",
    "    \n",
    "    for line in f:\n",
    "        clean_line = re.sub(r'[^\\w\\s]', '', line.lower())\n",
    "        words = clean_line.split()\n",
    "\n",
    "        for i in range(len(words) - 2):\n",
    "            trigram = (words[i], words[i + 1], words[i + 2])\n",
    "            trigram_counter[trigram] += 1"
   ]
  },
  {
   "cell_type": "code",
   "execution_count": 3,
   "id": "df92b704-5c9f-40fb-afa9-324c58bf609e",
   "metadata": {},
   "outputs": [
    {
     "name": "stdout",
     "output_type": "stream",
     "text": [
      "CPU times: total: 17.1 s\n",
      "Wall time: 17.2 s\n"
     ]
    }
   ],
   "source": [
    "%%time\n",
    "\n",
    "# change the 3 grams to dataframe\n",
    "df = pd.DataFrame([(w1, w2, w3, cnt) for (w1, w2, w3), cnt in trigram_counter.items()],\n",
    "                  columns=['word1', 'word2', 'word3', 'count']).sort_values('count', ascending = False).reset_index(drop = True)\n",
    "\n",
    "# calcualte the ratio of count by the first 2 words\n",
    "df['count_ratio'] = df['count'] / df.groupby(['word1', 'word2'])['count'].transform('sum')"
   ]
  },
  {
   "cell_type": "code",
   "execution_count": 4,
   "id": "25e5c4e8-df3e-4b9b-ac72-11175c3222dc",
   "metadata": {},
   "outputs": [
    {
     "name": "stdout",
     "output_type": "stream",
     "text": [
      "Quantile   0.0%: 1.00\n",
      "Quantile  20.0%: 1.00\n",
      "Quantile  40.0%: 1.00\n",
      "Quantile  60.0%: 1.00\n",
      "Quantile  80.0%: 1.00\n",
      "Quantile  91.0%: 2.00\n",
      "Quantile  92.0%: 2.00\n",
      "Quantile  93.0%: 2.00\n",
      "Quantile  94.0%: 3.00\n",
      "Quantile  95.0%: 3.00\n",
      "Quantile  96.0%: 4.00\n",
      "Quantile  97.0%: 5.00\n",
      "Quantile  98.0%: 7.00\n",
      "Quantile  99.0%: 13.00\n",
      "CPU times: total: 13.4 s\n",
      "Wall time: 13.6 s\n"
     ]
    }
   ],
   "source": [
    "%%time\n",
    "\n",
    "# get the top 5 common 3 gram\n",
    "top_df = df.sort_values('count', ascending = False).groupby(['word1', 'word2']).head(5).reset_index(drop = True)\n",
    "\n",
    "# print the quantile\n",
    "for i in np.arange(0, 1, 0.2):\n",
    "    print(f\"Quantile {i*100:>5.1f}%: {top_df['count'].quantile(i):.2f}\")\n",
    "for i in np.arange(0.91, 1, 0.01):\n",
    "    print(f\"Quantile {i*100:>5.1f}%: {top_df['count'].quantile(i):.2f}\")"
   ]
  },
  {
   "cell_type": "code",
   "execution_count": 5,
   "id": "5fd411e0-bb5c-4c32-885c-e69bb9495634",
   "metadata": {},
   "outputs": [
    {
     "name": "stdout",
     "output_type": "stream",
     "text": [
      "orginal rows: 13778311\n",
      "head 5 rows: 7693892\n",
      "simplifed rows: 328781\n"
     ]
    }
   ],
   "source": [
    "# based on the quantile, use 3 has the threshold for simplified data\n",
    "simplifed_df = top_df[top_df['count'] > 3]\n",
    "\n",
    "# print the number of rows\n",
    "print('orginal dataset rows:', df.shape[0])\n",
    "print('top 5 dataset rows:', top_df.shape[0])\n",
    "print('simplifed dataset rows:', simplifed_df.shape[0])\n",
    "\n",
    "# # save the simplified dataset\n",
    "# simplifed_df.to_csv('simplified_data.csv')"
   ]
  },
  {
   "cell_type": "markdown",
   "id": "ffc42b9d-13a8-4af5-8bbd-b02177780b9c",
   "metadata": {},
   "source": [
    "# Phrase Prediction"
   ]
  },
  {
   "cell_type": "code",
   "execution_count": 6,
   "id": "afc7d7c4-0bf6-4b2b-8999-3d84a8574dd9",
   "metadata": {},
   "outputs": [],
   "source": [
    "# define the function of checking the input text\n",
    "def word_check(input_text):\n",
    "    cleaned_text = re.sub(r'[^\\w\\s]', '', input_text.lower())\n",
    "    words = cleaned_text.split()\n",
    "\n",
    "    if len(words) < 2:\n",
    "        raise ValueError(\"Invalid input: please provide at least two words.\")\n",
    "    if len(words) > 2:\n",
    "        raise ValueError(\"Invalid input: please provide no more than two words.\")\n",
    "\n",
    "    return words[0], words[1]"
   ]
  },
  {
   "cell_type": "code",
   "execution_count": 66,
   "id": "e59baa40-e4e3-43df-a819-628f801df502",
   "metadata": {},
   "outputs": [],
   "source": [
    "# define the function of word prediction\n",
    "def word_prediction(input_text):\n",
    "    first_word, second_word = word_check(input_text)\n",
    "    predicted_table =  simplifed_df[(simplifed_df['word1'] == first_word) & (simplifed_df['word2'] == second_word)].reset_index(drop = True)\n",
    "    predicted_table = predicted_table[['word3', 'count_ratio']].rename(columns = {'word3': 'predicted word', 'count_ratio': 'predicted ratio'})\n",
    "\n",
    "    predicted_table['predicted ratio'] = predicted_table['predicted ratio'].apply(lambda x: round(x * 100, 2))\n",
    "    return predicted_table, round(predicted_table['predicted ratio'].sum(), 2)"
   ]
  },
  {
   "cell_type": "code",
   "execution_count": 63,
   "id": "a3ff12db-1985-4927-9af8-9bae7ca3f0ae",
   "metadata": {},
   "outputs": [],
   "source": [
    "# input the text\n",
    "input_text = 'Information is'"
   ]
  },
  {
   "cell_type": "code",
   "execution_count": 64,
   "id": "7a716eaa-b04b-4a96-ab6d-b9297d4f3fe2",
   "metadata": {},
   "outputs": [
    {
     "data": {
      "text/plain": [
       "(  predicted word  predicted ratio\n",
       " 0            not             8.45\n",
       " 1            the             7.04,\n",
       " 15.489999999999998)"
      ]
     },
     "execution_count": 64,
     "metadata": {},
     "output_type": "execute_result"
    }
   ],
   "source": [
    "# predict word based on input text\n",
    "word_prediction(input_text)"
   ]
  },
  {
   "cell_type": "markdown",
   "id": "8756b7e4-ca14-4186-a4f2-5317cc1348d8",
   "metadata": {},
   "source": [
    "# Sentence Generation"
   ]
  },
  {
   "cell_type": "code",
   "execution_count": 42,
   "id": "896e7237-13a4-4f77-9748-4660126be860",
   "metadata": {},
   "outputs": [],
   "source": [
    "# define the function of generating sentence\n",
    "def sentence_generation(input_text):\n",
    "    first_word, second_word = word_check(input_text)\n",
    "    \n",
    "    create_text_list = input_text.split()\n",
    "    \n",
    "    while len(list(simplifed_df.loc[(simplifed_df['word1'] == first_word) & (simplifed_df['word2'] == second_word), 'word3'])) != 0:\n",
    "        third_word_list = list(simplifed_df.loc[(simplifed_df['word1'] == first_word) & (simplifed_df['word2'] == second_word), 'word3'])\n",
    "        third_word = third_word_list[random.randint(0, len(third_word_list) - 1)]\n",
    "        create_text_list.append(third_word)\n",
    "        first_word, second_word = second_word, third_word\n",
    "\n",
    "    return ' '.join(create_text_list)"
   ]
  },
  {
   "cell_type": "code",
   "execution_count": 10,
   "id": "67bae176-c1bb-4f21-860f-ba489855445c",
   "metadata": {},
   "outputs": [
    {
     "data": {
      "text/plain": [
       "'Information is the most amazing thing to happen to have an extra day of the week is the best part of a new phone is off limits to growth and development'"
      ]
     },
     "execution_count": 10,
     "metadata": {},
     "output_type": "execute_result"
    }
   ],
   "source": [
    "# generate sentence based on input text\n",
    "sentence_generation(input_text)"
   ]
  },
  {
   "cell_type": "markdown",
   "id": "25952b15-3423-4207-a910-33a0b1b8441f",
   "metadata": {},
   "source": [
    "# Gradio"
   ]
  },
  {
   "cell_type": "code",
   "execution_count": 67,
   "id": "a84c2b6b-fa6c-4cd4-bcc5-086ec034e1ad",
   "metadata": {},
   "outputs": [
    {
     "name": "stdout",
     "output_type": "stream",
     "text": [
      "* Running on local URL:  http://127.0.0.1:7884\n",
      "* To create a public link, set `share=True` in `launch()`.\n"
     ]
    },
    {
     "data": {
      "text/html": [
       "<div><iframe src=\"http://127.0.0.1:7884/\" width=\"100%\" height=\"500\" allow=\"autoplay; camera; microphone; clipboard-read; clipboard-write;\" frameborder=\"0\" allowfullscreen></iframe></div>"
      ],
      "text/plain": [
       "<IPython.core.display.HTML object>"
      ]
     },
     "metadata": {},
     "output_type": "display_data"
    },
    {
     "data": {
      "text/plain": []
     },
     "execution_count": 67,
     "metadata": {},
     "output_type": "execute_result"
    }
   ],
   "source": [
    "with gr.Blocks() as demo:\n",
    "    with gr.Row():\n",
    "        with gr.Column():\n",
    "            gr.Markdown(\"## Word Prediction\")\n",
    "            input1 = gr.Textbox(label=\"Please input 2 words\")\n",
    "            output1 = gr.Dataframe(headers=[\"predicted word\", \"predicted ratio\"], label = \"Prediction Table\")\n",
    "            output2 = gr.Number(label = \"Prediction Total Ratio\")\n",
    "            btn1 = gr.Button(\"Predict\")\n",
    "            btn1.click(fn = word_prediction, inputs = input1, outputs=[output1, output2])\n",
    "            \n",
    "        with gr.Column():\n",
    "            gr.Markdown(\"## Sentence Generation\")\n",
    "            input2 = gr.Textbox(label=\"Please input 2 words\")\n",
    "            output2 = gr.Textbox(label=\"Generated Sentence\")\n",
    "            btn2 = gr.Button(\"Generate\")\n",
    "            btn2.click(fn = sentence_generation, inputs = input2, outputs = output2)\n",
    "\n",
    "demo.launch(inline = True)"
   ]
  },
  {
   "cell_type": "code",
   "execution_count": null,
   "id": "8ded6bd2-c4e1-4e56-a82d-7b3eba295962",
   "metadata": {},
   "outputs": [],
   "source": []
  }
 ],
 "metadata": {
  "kernelspec": {
   "display_name": "Python 3 (ipykernel)",
   "language": "python",
   "name": "python3"
  },
  "language_info": {
   "codemirror_mode": {
    "name": "ipython",
    "version": 3
   },
   "file_extension": ".py",
   "mimetype": "text/x-python",
   "name": "python",
   "nbconvert_exporter": "python",
   "pygments_lexer": "ipython3",
   "version": "3.11.7"
  }
 },
 "nbformat": 4,
 "nbformat_minor": 5
}
