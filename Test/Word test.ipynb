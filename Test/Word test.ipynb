{
 "cells": [
  {
   "cell_type": "code",
   "execution_count": null,
   "id": "75016fcc-3c9c-4791-90f2-429a2a85ba60",
   "metadata": {},
   "outputs": [],
   "source": [
    "# import packages\n",
    "import pandas as pd\n",
    "import numpy as np\n",
    "import re, time, random\n",
    "from collections import Counter"
   ]
  },
  {
   "cell_type": "markdown",
   "id": "010eda33-0b39-457c-811c-addba405cf11",
   "metadata": {},
   "source": [
    "# Create 3 gram dataset"
   ]
  },
  {
   "cell_type": "code",
   "execution_count": null,
   "id": "cbee6f60-fc3a-426f-a87f-5ebb41c9779c",
   "metadata": {},
   "outputs": [],
   "source": [
    "%%time\n",
    "\n",
    "# set the 3 gram counter\n",
    "trigram_counter = Counter()\n",
    "\n",
    "# file name\n",
    "file_path = \"en_US.twitter.txt\"\n",
    "\n",
    "# open the file and read by line\n",
    "with open(file_path, 'r', encoding='utf-8') as f:\n",
    "    \n",
    "    for line in f:\n",
    "        clean_line = re.sub(r'[^\\w\\s]', '', line.lower())\n",
    "        words = clean_line.split()\n",
    "\n",
    "        for i in range(len(words) - 2):\n",
    "            trigram = (words[i], words[i + 1], words[i + 2])\n",
    "            trigram_counter[trigram] += 1"
   ]
  },
  {
   "cell_type": "code",
   "execution_count": null,
   "id": "df92b704-5c9f-40fb-afa9-324c58bf609e",
   "metadata": {},
   "outputs": [],
   "source": [
    "%%time\n",
    "\n",
    "df = pd.DataFrame([(w1, w2, w3, cnt) for (w1, w2, w3), cnt in trigram_counter.items()],\n",
    "                  columns=['word1', 'word2', 'word3', 'count']).sort_values('count', ascending = False).reset_index(drop = True)\n",
    "\n",
    "df['count_ratio'] = df['count'] / df.groupby(['word1', 'word2'])['count'].transform('sum')"
   ]
  },
  {
   "cell_type": "code",
   "execution_count": null,
   "id": "25e5c4e8-df3e-4b9b-ac72-11175c3222dc",
   "metadata": {},
   "outputs": [],
   "source": [
    "%%time\n",
    "\n",
    "top_df = df.sort_values('count', ascending = False).groupby(['word1', 'word2']).head(5).reset_index(drop = True)\n",
    "\n",
    "for i in np.arange(0, 1, 0.2):\n",
    "    print(round(i, 2), top_df['count'].quantile(i))\n",
    "for i in np.arange(0.91, 1, 0.01):\n",
    "    print(round(i, 2), top_df['count'].quantile(i))"
   ]
  },
  {
   "cell_type": "code",
   "execution_count": null,
   "id": "5fd411e0-bb5c-4c32-885c-e69bb9495634",
   "metadata": {},
   "outputs": [],
   "source": [
    "simplifed_df = top_df[top_df['count'] > 3]"
   ]
  },
  {
   "cell_type": "code",
   "execution_count": null,
   "id": "237a88ea-1bbc-410f-889b-c56c2bdbc482",
   "metadata": {},
   "outputs": [],
   "source": [
    "print('orginal rows:', df.shape[0])\n",
    "print('head 5 rows:', top_df.shape[0])\n",
    "print('simplifed rows:', simplifed_df.shape[0])"
   ]
  },
  {
   "cell_type": "markdown",
   "id": "ffc42b9d-13a8-4af5-8bbd-b02177780b9c",
   "metadata": {},
   "source": [
    "# Phrase Prediction"
   ]
  },
  {
   "cell_type": "code",
   "execution_count": null,
   "id": "c5ba8a04-02be-4e63-b81f-7e9fc1bbfad8",
   "metadata": {},
   "outputs": [],
   "source": [
    "input_text = 'I really'"
   ]
  },
  {
   "cell_type": "code",
   "execution_count": null,
   "id": "bf9e62ae-b207-426e-af14-2654288b8bac",
   "metadata": {},
   "outputs": [],
   "source": [
    "try:\n",
    "    input_text = input_text.lower()\n",
    "    input_word1, input_word2 = input_text.split()[0], input_text.split()[1]\n",
    "except:\n",
    "    print('input is wrong')"
   ]
  },
  {
   "cell_type": "code",
   "execution_count": null,
   "id": "f705f9fe-cd6e-4d13-97a3-453e2d7f2f48",
   "metadata": {},
   "outputs": [],
   "source": [
    "simplifed_df[(simplifed_df['word1'] == input_word1) & (simplifed_df['word2'] == input_word2)]"
   ]
  },
  {
   "cell_type": "markdown",
   "id": "8756b7e4-ca14-4186-a4f2-5317cc1348d8",
   "metadata": {},
   "source": [
    "# Sentence Generation"
   ]
  },
  {
   "cell_type": "code",
   "execution_count": null,
   "id": "ea50cd73-4c79-4db4-958a-53f124d16fe1",
   "metadata": {},
   "outputs": [],
   "source": [
    "first_word, second_word = input_word1, input_word2\n",
    "create_text_list = []\n",
    "create_text_list.append(first_word)\n",
    "create_text_list.append(second_word)"
   ]
  },
  {
   "cell_type": "code",
   "execution_count": null,
   "id": "9eed38a8-0dc4-4613-818b-2453d6000c01",
   "metadata": {},
   "outputs": [],
   "source": [
    "while len(list(simplifed_df.loc[(simplifed_df['word1'] == first_word) & (simplifed_df['word2'] == second_word), 'word3'])) != 0:\n",
    "    third_word_list = list(simplifed_df.loc[(simplifed_df['word1'] == first_word) & (simplifed_df['word2'] == second_word), 'word3'])\n",
    "    third_word = third_word_list[random.randint(0, len(third_word_list) - 1)]\n",
    "    create_text_list.append(third_word)\n",
    "    first_word = second_word\n",
    "    second_word = third_word"
   ]
  },
  {
   "cell_type": "code",
   "execution_count": null,
   "id": "c92cc48c-4981-43dd-a019-1279517a41a1",
   "metadata": {},
   "outputs": [],
   "source": [
    "' '.join(create_text_list)"
   ]
  },
  {
   "cell_type": "code",
   "execution_count": null,
   "id": "6e39ff49-d7b2-4bb5-8199-75a2a2ee1c72",
   "metadata": {},
   "outputs": [],
   "source": []
  }
 ],
 "metadata": {
  "kernelspec": {
   "display_name": "Python 3 (ipykernel)",
   "language": "python",
   "name": "python3"
  },
  "language_info": {
   "codemirror_mode": {
    "name": "ipython",
    "version": 3
   },
   "file_extension": ".py",
   "mimetype": "text/x-python",
   "name": "python",
   "nbconvert_exporter": "python",
   "pygments_lexer": "ipython3",
   "version": "3.11.7"
  }
 },
 "nbformat": 4,
 "nbformat_minor": 5
}
